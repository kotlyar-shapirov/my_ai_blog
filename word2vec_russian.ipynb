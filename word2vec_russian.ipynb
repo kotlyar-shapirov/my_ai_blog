{
 "cells": [
  {
   "cell_type": "code",
   "execution_count": 15,
   "metadata": {},
   "outputs": [],
   "source": [
    "import gensim.downloader\n",
    "import numpy as np\n",
    "from fastai.vision.widgets import *\n",
    "from navec import Navec"
   ]
  },
  {
   "cell_type": "code",
   "execution_count": 16,
   "metadata": {},
   "outputs": [
    {
     "name": "stdout",
     "output_type": "stream",
     "text": [
      "Requirement already satisfied: voila in c:\\users\\79219\\anaconda3\\lib\\site-packages (0.2.16)\n",
      "Requirement already satisfied: jupyter-server<2.0.0,>=0.3.0 in c:\\users\\79219\\anaconda3\\lib\\site-packages (from voila) (1.11.1)\n",
      "Requirement already satisfied: jupyter-client<7,>=6.1.3 in c:\\users\\79219\\anaconda3\\lib\\site-packages (from voila) (6.1.7)\n",
      "Requirement already satisfied: nbconvert<7,>=6.0.0 in c:\\users\\79219\\anaconda3\\lib\\site-packages (from voila) (6.2.0)\n",
      "Requirement already satisfied: nbclient<0.6,>=0.4.0 in c:\\users\\79219\\anaconda3\\lib\\site-packages (from voila) (0.5.1)\n",
      "Requirement already satisfied: nbformat in c:\\users\\79219\\anaconda3\\lib\\site-packages (from jupyter-server<2.0.0,>=0.3.0->voila) (5.0.8)\n",
      "Requirement already satisfied: traitlets>=4.2.1 in c:\\users\\79219\\anaconda3\\lib\\site-packages (from jupyter-server<2.0.0,>=0.3.0->voila) (5.0.5)\n",
      "Requirement already satisfied: tornado>=6.1.0 in c:\\users\\79219\\anaconda3\\lib\\site-packages (from jupyter-server<2.0.0,>=0.3.0->voila) (6.1)\n",
      "Requirement already satisfied: argon2-cffi in c:\\users\\79219\\anaconda3\\lib\\site-packages (from jupyter-server<2.0.0,>=0.3.0->voila) (20.1.0)\n",
      "Requirement already satisfied: jupyter-core>=4.6.0 in c:\\users\\79219\\anaconda3\\lib\\site-packages (from jupyter-server<2.0.0,>=0.3.0->voila) (4.6.3)\n",
      "Requirement already satisfied: ipython-genutils in c:\\users\\79219\\anaconda3\\lib\\site-packages (from jupyter-server<2.0.0,>=0.3.0->voila) (0.2.0)\n",
      "Requirement already satisfied: prometheus-client in c:\\users\\79219\\anaconda3\\lib\\site-packages (from jupyter-server<2.0.0,>=0.3.0->voila) (0.8.0)\n",
      "Requirement already satisfied: pyzmq>=17 in c:\\users\\79219\\anaconda3\\lib\\site-packages (from jupyter-server<2.0.0,>=0.3.0->voila) (19.0.2)\n",
      "Requirement already satisfied: terminado>=0.8.3 in c:\\users\\79219\\anaconda3\\lib\\site-packages (from jupyter-server<2.0.0,>=0.3.0->voila) (0.9.1)\n",
      "Requirement already satisfied: websocket-client in c:\\users\\79219\\anaconda3\\lib\\site-packages (from jupyter-server<2.0.0,>=0.3.0->voila) (1.2.1)\n",
      "Requirement already satisfied: jinja2 in c:\\users\\79219\\anaconda3\\lib\\site-packages (from jupyter-server<2.0.0,>=0.3.0->voila) (2.11.2)\n",
      "Requirement already satisfied: anyio<4,>=3.1.0 in c:\\users\\79219\\anaconda3\\lib\\site-packages (from jupyter-server<2.0.0,>=0.3.0->voila) (3.3.4)\n",
      "Requirement already satisfied: Send2Trash in c:\\users\\79219\\anaconda3\\lib\\site-packages (from jupyter-server<2.0.0,>=0.3.0->voila) (1.5.0)\n",
      "Requirement already satisfied: requests-unixsocket in c:\\users\\79219\\anaconda3\\lib\\site-packages (from jupyter-server<2.0.0,>=0.3.0->voila) (0.2.0)\n",
      "Requirement already satisfied: python-dateutil>=2.1 in c:\\users\\79219\\anaconda3\\lib\\site-packages (from jupyter-client<7,>=6.1.3->voila) (2.8.1)\n",
      "Requirement already satisfied: testpath in c:\\users\\79219\\anaconda3\\lib\\site-packages (from nbconvert<7,>=6.0.0->voila) (0.4.4)\n",
      "Requirement already satisfied: pandocfilters>=1.4.1 in c:\\users\\79219\\anaconda3\\lib\\site-packages (from nbconvert<7,>=6.0.0->voila) (1.4.3)\n",
      "Requirement already satisfied: pygments>=2.4.1 in c:\\users\\79219\\anaconda3\\lib\\site-packages (from nbconvert<7,>=6.0.0->voila) (2.7.2)\n",
      "Requirement already satisfied: mistune<2,>=0.8.1 in c:\\users\\79219\\anaconda3\\lib\\site-packages (from nbconvert<7,>=6.0.0->voila) (0.8.4)\n",
      "Requirement already satisfied: jupyterlab-pygments in c:\\users\\79219\\anaconda3\\lib\\site-packages (from nbconvert<7,>=6.0.0->voila) (0.1.2)\n",
      "Requirement already satisfied: defusedxml in c:\\users\\79219\\anaconda3\\lib\\site-packages (from nbconvert<7,>=6.0.0->voila) (0.6.0)\n",
      "Requirement already satisfied: entrypoints>=0.2.2 in c:\\users\\79219\\anaconda3\\lib\\site-packages (from nbconvert<7,>=6.0.0->voila) (0.3)\n",
      "Requirement already satisfied: bleach in c:\\users\\79219\\anaconda3\\lib\\site-packages (from nbconvert<7,>=6.0.0->voila) (3.2.1)\n",
      "Requirement already satisfied: nest-asyncio in c:\\users\\79219\\anaconda3\\lib\\site-packages (from nbclient<0.6,>=0.4.0->voila) (1.4.2)\n",
      "Requirement already satisfied: async-generator in c:\\users\\79219\\anaconda3\\lib\\site-packages (from nbclient<0.6,>=0.4.0->voila) (1.10)\n",
      "Requirement already satisfied: jsonschema!=2.5.0,>=2.4 in c:\\users\\79219\\anaconda3\\lib\\site-packages (from nbformat->jupyter-server<2.0.0,>=0.3.0->voila) (3.2.0)\n",
      "Requirement already satisfied: six in c:\\users\\79219\\anaconda3\\lib\\site-packages (from argon2-cffi->jupyter-server<2.0.0,>=0.3.0->voila) (1.15.0)\n",
      "Requirement already satisfied: cffi>=1.0.0 in c:\\users\\79219\\anaconda3\\lib\\site-packages (from argon2-cffi->jupyter-server<2.0.0,>=0.3.0->voila) (1.14.3)\n",
      "Requirement already satisfied: pywin32>=1.0; sys_platform == \"win32\" in c:\\users\\79219\\anaconda3\\lib\\site-packages (from jupyter-core>=4.6.0->jupyter-server<2.0.0,>=0.3.0->voila) (227)\n",
      "Requirement already satisfied: pywinpty>=0.5 in c:\\users\\79219\\anaconda3\\lib\\site-packages (from terminado>=0.8.3->jupyter-server<2.0.0,>=0.3.0->voila) (0.5.7)\n",
      "Requirement already satisfied: MarkupSafe>=0.23 in c:\\users\\79219\\anaconda3\\lib\\site-packages (from jinja2->jupyter-server<2.0.0,>=0.3.0->voila) (1.1.1)\n",
      "Requirement already satisfied: idna>=2.8 in c:\\users\\79219\\anaconda3\\lib\\site-packages (from anyio<4,>=3.1.0->jupyter-server<2.0.0,>=0.3.0->voila) (2.10)\n",
      "Requirement already satisfied: sniffio>=1.1 in c:\\users\\79219\\anaconda3\\lib\\site-packages (from anyio<4,>=3.1.0->jupyter-server<2.0.0,>=0.3.0->voila) (1.2.0)\n",
      "Requirement already satisfied: urllib3>=1.8 in c:\\users\\79219\\anaconda3\\lib\\site-packages (from requests-unixsocket->jupyter-server<2.0.0,>=0.3.0->voila) (1.25.11)\n",
      "Requirement already satisfied: requests>=1.1 in c:\\users\\79219\\anaconda3\\lib\\site-packages (from requests-unixsocket->jupyter-server<2.0.0,>=0.3.0->voila) (2.24.0)\n",
      "Requirement already satisfied: webencodings in c:\\users\\79219\\anaconda3\\lib\\site-packages (from bleach->nbconvert<7,>=6.0.0->voila) (0.5.1)\n",
      "Requirement already satisfied: packaging in c:\\users\\79219\\anaconda3\\lib\\site-packages (from bleach->nbconvert<7,>=6.0.0->voila) (20.4)\n",
      "Requirement already satisfied: attrs>=17.4.0 in c:\\users\\79219\\anaconda3\\lib\\site-packages (from jsonschema!=2.5.0,>=2.4->nbformat->jupyter-server<2.0.0,>=0.3.0->voila) (20.3.0)\n",
      "Requirement already satisfied: setuptools in c:\\users\\79219\\anaconda3\\lib\\site-packages (from jsonschema!=2.5.0,>=2.4->nbformat->jupyter-server<2.0.0,>=0.3.0->voila) (50.3.1.post20201107)\n",
      "Requirement already satisfied: pyrsistent>=0.14.0 in c:\\users\\79219\\anaconda3\\lib\\site-packages (from jsonschema!=2.5.0,>=2.4->nbformat->jupyter-server<2.0.0,>=0.3.0->voila) (0.17.3)\n",
      "Requirement already satisfied: pycparser in c:\\users\\79219\\anaconda3\\lib\\site-packages (from cffi>=1.0.0->argon2-cffi->jupyter-server<2.0.0,>=0.3.0->voila) (2.20)\n",
      "Requirement already satisfied: chardet<4,>=3.0.2 in c:\\users\\79219\\anaconda3\\lib\\site-packages (from requests>=1.1->requests-unixsocket->jupyter-server<2.0.0,>=0.3.0->voila) (3.0.4)\n",
      "Requirement already satisfied: certifi>=2017.4.17 in c:\\users\\79219\\anaconda3\\lib\\site-packages (from requests>=1.1->requests-unixsocket->jupyter-server<2.0.0,>=0.3.0->voila) (2020.6.20)\n",
      "Requirement already satisfied: pyparsing>=2.0.2 in c:\\users\\79219\\anaconda3\\lib\\site-packages (from packaging->bleach->nbconvert<7,>=6.0.0->voila) (2.4.7)\n"
     ]
    },
    {
     "name": "stderr",
     "output_type": "stream",
     "text": [
      "Enabling: voila\n",
      "- Writing config: C:\\Users\\79219\\anaconda3\\etc\\jupyter\n",
      "    - Validating...\n",
      "      voila 0.2.16 ok\n"
     ]
    }
   ],
   "source": [
    "!pip install voila\n",
    "!jupyter serverextension enable --sys-prefix voila "
   ]
  },
  {
   "cell_type": "code",
   "execution_count": 17,
   "metadata": {},
   "outputs": [],
   "source": [
    "path = 'navec_hudlit_v1_12B_500K_300d_100q.tar'\n",
    "navec = Navec.load(path)\n",
    "navec_gensim = navec.as_gensim"
   ]
  },
  {
   "cell_type": "code",
   "execution_count": 18,
   "metadata": {},
   "outputs": [],
   "source": [
    "positive_blank = widgets.Text('париж германия')\n",
    "negative_blank = widgets.Text('берлин')"
   ]
  },
  {
   "cell_type": "markdown",
   "metadata": {},
   "source": [
    "### Добавить смыслов (маленькими буквами через пробел):"
   ]
  },
  {
   "cell_type": "code",
   "execution_count": 19,
   "metadata": {},
   "outputs": [
    {
     "data": {
      "application/vnd.jupyter.widget-view+json": {
       "model_id": "ed7414bfc1c74d14afd2c436175528d0",
       "version_major": 2,
       "version_minor": 0
      },
      "text/plain": [
       "Text(value='париж германия')"
      ]
     },
     "metadata": {},
     "output_type": "display_data"
    }
   ],
   "source": [
    "positive_blank "
   ]
  },
  {
   "cell_type": "markdown",
   "metadata": {},
   "source": [
    "### Убрать смыслов (маленькими буквами через пробел):"
   ]
  },
  {
   "cell_type": "code",
   "execution_count": 20,
   "metadata": {},
   "outputs": [
    {
     "data": {
      "application/vnd.jupyter.widget-view+json": {
       "model_id": "f7630534e05e457d93764953adaa302f",
       "version_major": 2,
       "version_minor": 0
      },
      "text/plain": [
       "Text(value='берлин')"
      ]
     },
     "metadata": {},
     "output_type": "display_data"
    }
   ],
   "source": [
    "negative_blank"
   ]
  },
  {
   "cell_type": "code",
   "execution_count": 21,
   "metadata": {},
   "outputs": [],
   "source": [
    "def on_click(change):\n",
    "    positive = positive_blank.value.split()\n",
    "    negative = negative_blank.value.split()\n",
    "    pred = navec_gensim.most_similar(positive, negative, topn=5)\n",
    "    for i, pair in enumerate(pred):\n",
    "        lbl_pred[i].value = pair[0] + ' ' + str(pair[1])[0:4]\n"
   ]
  },
  {
   "cell_type": "code",
   "execution_count": 22,
   "metadata": {},
   "outputs": [],
   "source": [
    "btn_run = widgets.Button(description='See the meaning')\n",
    "\n",
    "lbl_pred = [widgets.Label() for i in range(5)]"
   ]
  },
  {
   "cell_type": "code",
   "execution_count": 23,
   "metadata": {},
   "outputs": [],
   "source": [
    "btn_run.on_click(on_click)"
   ]
  },
  {
   "cell_type": "code",
   "execution_count": 24,
   "metadata": {},
   "outputs": [
    {
     "data": {
      "application/vnd.jupyter.widget-view+json": {
       "model_id": "f64f90568ae84b2fa3b7537d3bd89fe9",
       "version_major": 2,
       "version_minor": 0
      },
      "text/plain": [
       "VBox(children=(Label(value='Go!'), Button(description='See the meaning', style=ButtonStyle()), Label(value='')…"
      ]
     },
     "metadata": {},
     "output_type": "display_data"
    }
   ],
   "source": [
    "VBox([widgets.Label('Go!'), btn_run,\n",
    "      lbl_pred[0], lbl_pred[1], lbl_pred[2], lbl_pred[3], lbl_pred[4]])"
   ]
  }
 ],
 "metadata": {
  "kernelspec": {
   "display_name": "Python 3",
   "language": "python",
   "name": "python3"
  },
  "language_info": {
   "codemirror_mode": {
    "name": "ipython",
    "version": 3
   },
   "file_extension": ".py",
   "mimetype": "text/x-python",
   "name": "python",
   "nbconvert_exporter": "python",
   "pygments_lexer": "ipython3",
   "version": "3.8.5"
  }
 },
 "nbformat": 4,
 "nbformat_minor": 4
}
